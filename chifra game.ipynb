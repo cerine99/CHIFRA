{
 "cells": [
  {
   "cell_type": "code",
   "execution_count": 13,
   "id": "dd3e4390",
   "metadata": {},
   "outputs": [
    {
     "name": "stdout",
     "output_type": "stream",
     "text": [
      "please,unter your words to transform it into a secret code acb\n"
     ]
    },
    {
     "ename": "TypeError",
     "evalue": "unhashable type: 'list'",
     "output_type": "error",
     "traceback": [
      "\u001b[1;31m---------------------------------------------------------------------------\u001b[0m",
      "\u001b[1;31mTypeError\u001b[0m                                 Traceback (most recent call last)",
      "Input \u001b[1;32mIn [13]\u001b[0m, in \u001b[0;36m<cell line: 4>\u001b[1;34m()\u001b[0m\n\u001b[0;32m      2\u001b[0m split_option\u001b[38;5;241m=\u001b[39m\u001b[38;5;28mlist\u001b[39m(user_code)\n\u001b[0;32m      3\u001b[0m my_dict\u001b[38;5;241m=\u001b[39m{\u001b[38;5;124m\"\u001b[39m\u001b[38;5;124mA\u001b[39m\u001b[38;5;124m\"\u001b[39m:\u001b[38;5;124m\"\u001b[39m\u001b[38;5;124m..\u001b[39m\u001b[38;5;124m\"\u001b[39m,\u001b[38;5;124m\"\u001b[39m\u001b[38;5;124mB\u001b[39m\u001b[38;5;124m\"\u001b[39m:\u001b[38;5;124m\"\u001b[39m\u001b[38;5;124m--\u001b[39m\u001b[38;5;124m\"\u001b[39m,\u001b[38;5;124m\"\u001b[39m\u001b[38;5;124mC\u001b[39m\u001b[38;5;124m\"\u001b[39m:\u001b[38;5;124m\"\u001b[39m\u001b[38;5;124m.-\u001b[39m\u001b[38;5;124m\"\u001b[39m}\n\u001b[1;32m----> 4\u001b[0m connect\u001b[38;5;241m=\u001b[39m\u001b[43mmy_dict\u001b[49m\u001b[43m[\u001b[49m\u001b[43msplit_option\u001b[49m\u001b[43m]\u001b[49m\n\u001b[0;32m      5\u001b[0m join_option\u001b[38;5;241m=\u001b[39mjoin(connect)\n\u001b[0;32m      6\u001b[0m result\u001b[38;5;241m=\u001b[39mconnect\u001b[38;5;241m.\u001b[39mvalues()\n",
      "\u001b[1;31mTypeError\u001b[0m: unhashable type: 'list'"
     ]
    }
   ],
   "source": [
    "user_code=input(\"please,unter your words to transform it into a secret code \").upper()\n",
    "split_option=list(user_code)\n",
    "my_dict={\"A\":\"..\",\"B\":\"--\",\"C\":\".-\"}\n",
    "connect=my_dict[split_option]\n",
    "join_option=join(connect)\n",
    "result=connect.values()\n",
    "print(result)"
   ]
  },
  {
   "cell_type": "code",
   "execution_count": null,
   "id": "f8cfea4d",
   "metadata": {},
   "outputs": [],
   "source": []
  }
 ],
 "metadata": {
  "kernelspec": {
   "display_name": "Python 3 (ipykernel)",
   "language": "python",
   "name": "python3"
  },
  "language_info": {
   "codemirror_mode": {
    "name": "ipython",
    "version": 3
   },
   "file_extension": ".py",
   "mimetype": "text/x-python",
   "name": "python",
   "nbconvert_exporter": "python",
   "pygments_lexer": "ipython3",
   "version": "3.9.12"
  }
 },
 "nbformat": 4,
 "nbformat_minor": 5
}
